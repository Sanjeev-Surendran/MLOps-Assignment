{
 "cells": [
  {
   "cell_type": "markdown",
   "id": "75178fef",
   "metadata": {},
   "source": [
    "Dummy notebook file to test working of utils.py"
   ]
  },
  {
   "cell_type": "code",
   "execution_count": 1,
   "id": "e43c4c66",
   "metadata": {},
   "outputs": [],
   "source": [
    "# Load functions from util.py\n",
    "from utils import *"
   ]
  },
  {
   "cell_type": "code",
   "execution_count": 2,
   "id": "8be116c6",
   "metadata": {},
   "outputs": [],
   "source": [
    "# Load functions from data_validation_checks.py\n",
    "from data_validation_checks import *"
   ]
  },
  {
   "cell_type": "code",
   "execution_count": 3,
   "id": "4082a407",
   "metadata": {},
   "outputs": [
    {
     "name": "stdout",
     "output_type": "stream",
     "text": [
      "Creating Database\n",
      "New DB Created\n"
     ]
    },
    {
     "data": {
      "text/plain": [
       "'DB created'"
      ]
     },
     "execution_count": 3,
     "metadata": {},
     "output_type": "execute_result"
    }
   ],
   "source": [
    "# Call build_dbs() function\n",
    "build_dbs()"
   ]
  },
  {
   "cell_type": "code",
   "execution_count": 4,
   "id": "979d1204",
   "metadata": {},
   "outputs": [
    {
     "name": "stdout",
     "output_type": "stream",
     "text": [
      "Raw datas schema is in line with the schema present in schema.py\n"
     ]
    }
   ],
   "source": [
    "# Call raw_data_schema_check() function\n",
    "raw_data_schema_check()"
   ]
  },
  {
   "cell_type": "code",
   "execution_count": 5,
   "id": "b451d56a",
   "metadata": {},
   "outputs": [
    {
     "name": "stdout",
     "output_type": "stream",
     "text": [
      "Loading dataframe from /home/Assignment/01_data_pipeline/notebooks/Data/leadscoring.csv\n",
      "Replacing null values in columns total_leads_droppped and referred_lead with zero...\n",
      "Storing processed dataframe to loaded_data table\n"
     ]
    }
   ],
   "source": [
    "# Call load_data_into_db() function\n",
    "load_data_into_db()"
   ]
  },
  {
   "cell_type": "code",
   "execution_count": 6,
   "id": "142a8610",
   "metadata": {},
   "outputs": [
    {
     "name": "stdout",
     "output_type": "stream",
     "text": [
      "Loading loaded_data table...\n",
      "Mapping city_mapped to tiers\n",
      "Storing modified dataframe to table city_tier_mapped\n"
     ]
    }
   ],
   "source": [
    "# Call map_city_tier() function\n",
    "map_city_tier()"
   ]
  },
  {
   "cell_type": "code",
   "execution_count": 7,
   "id": "8b9f45e2",
   "metadata": {},
   "outputs": [
    {
     "name": "stdout",
     "output_type": "stream",
     "text": [
      "Loading city_tier_mapped table\n",
      "Mapping insignificant variables present in first_platform_c, first_utm_medium_c, first_utm_source_c\n"
     ]
    },
    {
     "name": "stderr",
     "output_type": "stream",
     "text": [
      "/home/Assignment/01_data_pipeline/scripts/utils.py:229: SettingWithCopyWarning: \n",
      "A value is trying to be set on a copy of a slice from a DataFrame.\n",
      "Try using .loc[row_indexer,col_indexer] = value instead\n",
      "\n",
      "See the caveats in the documentation: https://pandas.pydata.org/pandas-docs/stable/user_guide/indexing.html#returning-a-view-versus-a-copy\n",
      "  new_df['first_platform_c'] = \"others\" # replace the value of these levels to others\n",
      "/home/Assignment/01_data_pipeline/scripts/utils.py:235: SettingWithCopyWarning: \n",
      "A value is trying to be set on a copy of a slice from a DataFrame.\n",
      "Try using .loc[row_indexer,col_indexer] = value instead\n",
      "\n",
      "See the caveats in the documentation: https://pandas.pydata.org/pandas-docs/stable/user_guide/indexing.html#returning-a-view-versus-a-copy\n",
      "  new_df['first_utm_medium_c'] = \"others\" # replace the value of these levels to others\n",
      "/home/Assignment/01_data_pipeline/scripts/utils.py:241: SettingWithCopyWarning: \n",
      "A value is trying to be set on a copy of a slice from a DataFrame.\n",
      "Try using .loc[row_indexer,col_indexer] = value instead\n",
      "\n",
      "See the caveats in the documentation: https://pandas.pydata.org/pandas-docs/stable/user_guide/indexing.html#returning-a-view-versus-a-copy\n",
      "  new_df['first_utm_source_c'] = \"others\" # replace the value of these levels to others\n"
     ]
    },
    {
     "name": "stdout",
     "output_type": "stream",
     "text": [
      "Storing mapped df to table categorical_variables_mapped\n"
     ]
    }
   ],
   "source": [
    "# Call map_categorical_vars() function\n",
    "map_categorical_vars()"
   ]
  },
  {
   "cell_type": "code",
   "execution_count": 8,
   "id": "0cfebbab",
   "metadata": {},
   "outputs": [
    {
     "name": "stdout",
     "output_type": "stream",
     "text": [
      "Loading categorical_variables_mapped table\n",
      "read the interaction mapping file\n",
      "Storing mapped df to table interactions_mapped\n",
      "Selecting a smaller subset of columns for model training part, excluding created_date\n",
      "Storing schema required df to table model_input\n"
     ]
    }
   ],
   "source": [
    "# Call interactions_mapping() function\n",
    "interactions_mapping()"
   ]
  },
  {
   "cell_type": "code",
   "execution_count": 9,
   "id": "7b7c034b",
   "metadata": {},
   "outputs": [
    {
     "name": "stdout",
     "output_type": "stream",
     "text": [
      "Models input schema is in line with the schema present in schema.py\n"
     ]
    }
   ],
   "source": [
    "# Call model_input_schema_check() function\n",
    "model_input_schema_check()"
   ]
  },
  {
   "cell_type": "code",
   "execution_count": null,
   "id": "6077aa8a-b24f-4e21-bf95-da64c6747559",
   "metadata": {},
   "outputs": [],
   "source": []
  }
 ],
 "metadata": {
  "kernelspec": {
   "display_name": "Python 3 (ipykernel)",
   "language": "python",
   "name": "python3"
  },
  "language_info": {
   "codemirror_mode": {
    "name": "ipython",
    "version": 3
   },
   "file_extension": ".py",
   "mimetype": "text/x-python",
   "name": "python",
   "nbconvert_exporter": "python",
   "pygments_lexer": "ipython3",
   "version": "3.8.12"
  }
 },
 "nbformat": 4,
 "nbformat_minor": 5
}
