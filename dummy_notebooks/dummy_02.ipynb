{
 "cells": [
  {
   "cell_type": "markdown",
   "id": "828484b0",
   "metadata": {},
   "source": [
    "Dummy Notebook to check 02_training_pipeline"
   ]
  },
  {
   "cell_type": "code",
   "execution_count": 1,
   "id": "16030e06",
   "metadata": {},
   "outputs": [],
   "source": [
    "# Import all functions from utils.py\n",
    "from utils import *"
   ]
  },
  {
   "cell_type": "code",
   "execution_count": 2,
   "id": "b7ade8ff",
   "metadata": {},
   "outputs": [
    {
     "name": "stdout",
     "output_type": "stream",
     "text": [
      "Loading model_input table\n",
      "One hot encoding features\n",
      "Storing target features to 'target' table\n",
      "Storing rest of features to 'feature' table\n"
     ]
    }
   ],
   "source": [
    "# Call encode_features()\n",
    "encode_features()"
   ]
  },
  {
   "cell_type": "code",
   "execution_count": 3,
   "id": "9e08114d",
   "metadata": {},
   "outputs": [
    {
     "name": "stdout",
     "output_type": "stream",
     "text": [
      "Loading 'features' table\n",
      "Loading 'target' table\n"
     ]
    },
    {
     "name": "stderr",
     "output_type": "stream",
     "text": [
      "2023/06/20 16:29:22 INFO mlflow.tracking.fluent: Experiment with name 'Lead_scoring_mlflow_production' does not exist. Creating a new experiment.\n",
      "Successfully registered model 'LightGBM'.\n",
      "2023/06/20 16:29:28 INFO mlflow.tracking._model_registry.client: Waiting up to 300 seconds for model version to finish creation.                     Model name: LightGBM, version 1\n",
      "Created version '1' of model 'LightGBM'.\n"
     ]
    },
    {
     "name": "stdout",
     "output_type": "stream",
     "text": [
      "Precision= 0.7401703365512307\n",
      "Recall= 0.7499981377582429\n",
      "AUC= 0.7499981377582429\n",
      "Inside MLflow Run with id 8b4a64d02c9240019cbc8c116d1a5e6c\n"
     ]
    }
   ],
   "source": [
    "# Call get_trained_model()\n",
    "get_trained_model()"
   ]
  },
  {
   "cell_type": "code",
   "execution_count": null,
   "id": "96452b58-806b-4433-bb0e-410485b1a44d",
   "metadata": {},
   "outputs": [],
   "source": []
  }
 ],
 "metadata": {
  "kernelspec": {
   "display_name": "Python 3 (ipykernel)",
   "language": "python",
   "name": "python3"
  },
  "language_info": {
   "codemirror_mode": {
    "name": "ipython",
    "version": 3
   },
   "file_extension": ".py",
   "mimetype": "text/x-python",
   "name": "python",
   "nbconvert_exporter": "python",
   "pygments_lexer": "ipython3",
   "version": "3.9.13"
  }
 },
 "nbformat": 4,
 "nbformat_minor": 5
}
