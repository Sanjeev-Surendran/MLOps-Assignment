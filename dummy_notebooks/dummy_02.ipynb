{
 "cells": [
  {
   "cell_type": "markdown",
   "id": "828484b0",
   "metadata": {},
   "source": [
    "Dummy Notebook to check 02_training_pipeline"
   ]
  },
  {
   "cell_type": "code",
   "execution_count": 4,
   "id": "16030e06",
   "metadata": {},
   "outputs": [],
   "source": [
    "# Import all functions from utils.py\n",
    "from utils import *\n",
    "import sqlite3\n",
    "from sqlite3 import Error"
   ]
  },
  {
   "cell_type": "code",
   "execution_count": 5,
   "id": "0bd42d3c-1f7f-40c2-ac81-1be38efdf8e2",
   "metadata": {},
   "outputs": [],
   "source": [
    "# Database directory path\n",
    "database_dir = '/home/Assignment/02_training_pipeline/notebooks/'"
   ]
  },
  {
   "cell_type": "code",
   "execution_count": 6,
   "id": "8f1f3d3e-dc60-4c7f-8355-41bef9e44c48",
   "metadata": {},
   "outputs": [
    {
     "name": "stdout",
     "output_type": "stream",
     "text": [
      "2.6.0\n"
     ]
    }
   ],
   "source": [
    "# create a connection and setup a SQLite database with the name \"Lead_scoring_mlflow_production.db\" in \n",
    "# '/home/airflow/dags/Lead_scoring_training_pipeline/' location\n",
    "\n",
    "# Function to establish SQLite database connection\n",
    "def create_sqlite_connection(db_path, db_file):\n",
    "    \"\"\" create a database connection to a SQLite database \"\"\"\n",
    "    conn = None\n",
    "    # opening the conncetion for creating the sqlite db\n",
    "    try:\n",
    "        conn = sqlite3.connect(db_path+db_file)\n",
    "        print(sqlite3.version)\n",
    "    # return an error if connection not established\n",
    "    except Error as e:\n",
    "        print(e)\n",
    "    # closing the connection once the database is created\n",
    "    finally:\n",
    "        if conn:\n",
    "            conn.close()\n",
    "\n",
    "# Call function to create database - lead_scoring_model_experimentation.db\n",
    "create_sqlite_connection(database_dir, r\"Lead_scoring_mlflow_production.db\")"
   ]
  },
  {
   "cell_type": "code",
   "execution_count": 7,
   "id": "b7ade8ff",
   "metadata": {},
   "outputs": [
    {
     "name": "stdout",
     "output_type": "stream",
     "text": [
      "already present\n"
     ]
    }
   ],
   "source": [
    "# Call encode_features()\n",
    "encode_features()"
   ]
  },
  {
   "cell_type": "code",
   "execution_count": 8,
   "id": "9e08114d",
   "metadata": {},
   "outputs": [
    {
     "name": "stdout",
     "output_type": "stream",
     "text": [
      "Loading 'features' table\n",
      "Loading 'target' table\n"
     ]
    },
    {
     "name": "stderr",
     "output_type": "stream",
     "text": [
      "2023/06/21 18:34:46 INFO mlflow.tracking.fluent: Experiment with name 'Lead_scoring_mlflow_production' does not exist. Creating a new experiment.\n",
      "Successfully registered model 'LightGBM'.\n",
      "2023/06/21 18:34:52 INFO mlflow.tracking._model_registry.client: Waiting up to 300 seconds for model version to finish creation.                     Model name: LightGBM, version 1\n",
      "Created version '1' of model 'LightGBM'.\n"
     ]
    },
    {
     "name": "stdout",
     "output_type": "stream",
     "text": [
      "Precision= 0.7401703365512307\n",
      "Recall= 0.7499981377582429\n",
      "AUC= 0.7499981377582429\n",
      "Inside MLflow Run with id f544e2288d294be4b9c441494d7eb4f6\n"
     ]
    }
   ],
   "source": [
    "# Call get_trained_model()\n",
    "get_trained_model()"
   ]
  },
  {
   "cell_type": "code",
   "execution_count": null,
   "id": "96452b58-806b-4433-bb0e-410485b1a44d",
   "metadata": {},
   "outputs": [],
   "source": []
  }
 ],
 "metadata": {
  "kernelspec": {
   "display_name": "Python 3 (ipykernel)",
   "language": "python",
   "name": "python3"
  },
  "language_info": {
   "codemirror_mode": {
    "name": "ipython",
    "version": 3
   },
   "file_extension": ".py",
   "mimetype": "text/x-python",
   "name": "python",
   "nbconvert_exporter": "python",
   "pygments_lexer": "ipython3",
   "version": "3.8.12"
  }
 },
 "nbformat": 4,
 "nbformat_minor": 5
}
