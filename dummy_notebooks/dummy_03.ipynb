{
 "cells": [
  {
   "cell_type": "markdown",
   "id": "98dae3ae",
   "metadata": {},
   "source": [
    "Dummy notebook to check 03_inference_pipeline"
   ]
  },
  {
   "cell_type": "code",
   "execution_count": 1,
   "id": "51cb9349",
   "metadata": {},
   "outputs": [],
   "source": [
    "# Import all functions from utils\n",
    "from utils import *"
   ]
  },
  {
   "cell_type": "code",
   "execution_count": 2,
   "id": "c6cad3ec",
   "metadata": {},
   "outputs": [
    {
     "name": "stdout",
     "output_type": "stream",
     "text": [
      "features already exists\n"
     ]
    }
   ],
   "source": [
    "# Call encode_features() function\n",
    "encode_features()"
   ]
  },
  {
   "cell_type": "code",
   "execution_count": 3,
   "id": "cf95272e",
   "metadata": {},
   "outputs": [
    {
     "name": "stdout",
     "output_type": "stream",
     "text": [
      "Loading model from mlflow, using production model\n",
      "Model url models:/LightGBM/production\n",
      "Loading features  from table\n",
      "Making Prediction\n",
      "Predictions are done and create/replaced Table\n"
     ]
    }
   ],
   "source": [
    "# Call get_models_prediction() function\n",
    "get_models_prediction()"
   ]
  },
  {
   "cell_type": "code",
   "execution_count": 4,
   "id": "c68fe0e8",
   "metadata": {},
   "outputs": [
    {
     "name": "stdout",
     "output_type": "stream",
     "text": [
      "Loading predictions table\n",
      "Prediction ratio for the date Tue Jun 20 16:50:36 2023 for Ones % 59.75 and Zeroes % 40.25\n"
     ]
    }
   ],
   "source": [
    "# Call prediction_ratio_check() function\n",
    "prediction_ratio_check()"
   ]
  },
  {
   "cell_type": "code",
   "execution_count": 5,
   "id": "9f8f8691",
   "metadata": {},
   "outputs": [
    {
     "name": "stdout",
     "output_type": "stream",
     "text": [
      "Loading features table\n",
      "All the models input are present\n"
     ]
    }
   ],
   "source": [
    "# Call input_features_check() function\n",
    "input_features_check()"
   ]
  },
  {
   "cell_type": "code",
   "execution_count": null,
   "id": "411af98a-d29a-424a-a8f5-d612a19a628f",
   "metadata": {},
   "outputs": [],
   "source": []
  }
 ],
 "metadata": {
  "kernelspec": {
   "display_name": "Python 3 (ipykernel)",
   "language": "python",
   "name": "python3"
  },
  "language_info": {
   "codemirror_mode": {
    "name": "ipython",
    "version": 3
   },
   "file_extension": ".py",
   "mimetype": "text/x-python",
   "name": "python",
   "nbconvert_exporter": "python",
   "pygments_lexer": "ipython3",
   "version": "3.8.12"
  }
 },
 "nbformat": 4,
 "nbformat_minor": 5
}
